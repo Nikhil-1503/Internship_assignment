{
  "nbformat": 4,
  "nbformat_minor": 0,
  "metadata": {
    "colab": {
      "name": "Regression_Toy_Dataset.ipynb",
      "provenance": [],
      "collapsed_sections": [],
      "authorship_tag": "ABX9TyPPo/JDSEidXYghVWGNCZ3l"
    },
    "kernelspec": {
      "name": "python3",
      "display_name": "Python 3"
    },
    "language_info": {
      "name": "python"
    }
  },
  "cells": [
    {
      "cell_type": "code",
      "execution_count": 1,
      "metadata": {
        "id": "RcRjiVWPT9fU"
      },
      "outputs": [],
      "source": [
        "# Regression Toy Dataset\n",
        "import pandas as pd\n",
        "import numpy as np"
      ]
    },
    {
      "cell_type": "code",
      "source": [
        "# Generate dataset\n",
        "from sklearn.datasets import make_regression"
      ],
      "metadata": {
        "id": "1io1fiCvUSPn"
      },
      "execution_count": 2,
      "outputs": []
    },
    {
      "cell_type": "code",
      "source": [
        "# without coefficient of underline model\n",
        "X, y = make_regression(n_samples=500, n_features=5, coef=False, bias=12, noise=10, random_state=2529)"
      ],
      "metadata": {
        "id": "hF2Y0xbNUeDs"
      },
      "execution_count": 3,
      "outputs": []
    },
    {
      "cell_type": "code",
      "source": [
        "# with coefficient of underline model return\n",
        "X, y, w = make_regression(n_samples=500, n_features=5, coef=True, bias=12, noise=10, random_state=2529)"
      ],
      "metadata": {
        "id": "SPm_IkG5U159"
      },
      "execution_count": 4,
      "outputs": []
    },
    {
      "cell_type": "code",
      "source": [
        "X.shape, y.shape"
      ],
      "metadata": {
        "colab": {
          "base_uri": "https://localhost:8080/",
          "height": 0
        },
        "id": "0T7lrPRIVBHg",
        "outputId": "2372b402-7b86-4a2f-d53b-e72134492ea0"
      },
      "execution_count": 5,
      "outputs": [
        {
          "output_type": "execute_result",
          "data": {
            "text/plain": [
              "((500, 5), (500,))"
            ]
          },
          "metadata": {},
          "execution_count": 5
        }
      ]
    },
    {
      "cell_type": "code",
      "source": [
        "w # coefficients of X"
      ],
      "metadata": {
        "colab": {
          "base_uri": "https://localhost:8080/",
          "height": 0
        },
        "id": "hYOZBKA7VCeF",
        "outputId": "52b2e79a-a644-449a-b63d-065f83323490"
      },
      "execution_count": 6,
      "outputs": [
        {
          "output_type": "execute_result",
          "data": {
            "text/plain": [
              "array([29.45661718, 60.14529878, 61.7409438 , 13.32437893, 99.08122896])"
            ]
          },
          "metadata": {},
          "execution_count": 6
        }
      ]
    },
    {
      "cell_type": "code",
      "source": [
        "X.shape, y.shape"
      ],
      "metadata": {
        "colab": {
          "base_uri": "https://localhost:8080/",
          "height": 0
        },
        "id": "vOOKQl34VHni",
        "outputId": "b12174a4-3225-446b-9446-794149992a27"
      },
      "execution_count": 7,
      "outputs": [
        {
          "output_type": "execute_result",
          "data": {
            "text/plain": [
              "((500, 5), (500,))"
            ]
          },
          "metadata": {},
          "execution_count": 7
        }
      ]
    },
    {
      "cell_type": "code",
      "source": [
        "# First five rows of target variable y and features X\n",
        "X[0:5]"
      ],
      "metadata": {
        "colab": {
          "base_uri": "https://localhost:8080/",
          "height": 0
        },
        "id": "QMVBUYL-VLZk",
        "outputId": "b0dcf978-8ee8-4dee-f75c-5f4a6e70dd9e"
      },
      "execution_count": 8,
      "outputs": [
        {
          "output_type": "execute_result",
          "data": {
            "text/plain": [
              "array([[ 0.77913208, -1.09701784, -0.14239962,  1.02427891, -1.0708024 ],\n",
              "       [-0.6925009 ,  0.45535977,  0.34707569, -0.32456746,  0.21970203],\n",
              "       [-0.03901601, -0.3265115 ,  0.59793721,  0.61686653, -0.6237489 ],\n",
              "       [-0.61566117, -0.11782129, -0.98234619, -0.78292727,  0.42713048],\n",
              "       [ 1.30822207, -0.72541559,  0.60187975,  0.33285998,  1.48506184]])"
            ]
          },
          "metadata": {},
          "execution_count": 8
        }
      ]
    },
    {
      "cell_type": "code",
      "source": [
        "y[0:5]"
      ],
      "metadata": {
        "colab": {
          "base_uri": "https://localhost:8080/",
          "height": 0
        },
        "id": "AFSKQP9sVXQ4",
        "outputId": "b47fe635-2a51-414f-8abd-5595e45385d2"
      },
      "execution_count": 9,
      "outputs": [
        {
          "output_type": "execute_result",
          "data": {
            "text/plain": [
              "array([-136.21858395,   49.83118244,  -29.81097858,  -31.74001475,\n",
              "        193.0687778 ])"
            ]
          },
          "metadata": {},
          "execution_count": 9
        }
      ]
    },
    {
      "cell_type": "code",
      "source": [
        "X.shape, y.shape"
      ],
      "metadata": {
        "colab": {
          "base_uri": "https://localhost:8080/",
          "height": 0
        },
        "id": "FBhJnClRVaME",
        "outputId": "d130e6b0-1dbd-4e97-f9ad-99c603888283"
      },
      "execution_count": 10,
      "outputs": [
        {
          "output_type": "execute_result",
          "data": {
            "text/plain": [
              "((500, 5), (500,))"
            ]
          },
          "metadata": {},
          "execution_count": 10
        }
      ]
    },
    {
      "cell_type": "code",
      "source": [
        "# Train test split\n",
        "from sklearn.model_selection import train_test_split"
      ],
      "metadata": {
        "id": "pZOwPF3fVc69"
      },
      "execution_count": 11,
      "outputs": []
    },
    {
      "cell_type": "code",
      "source": [
        "X_train, X_test, y_train, y_test = train_test_split(X, y, test_size=0.3, random_state=2529)"
      ],
      "metadata": {
        "id": "n6esKai3VnVp"
      },
      "execution_count": 12,
      "outputs": []
    },
    {
      "cell_type": "code",
      "source": [
        "X_train.shape, X_test.shape, y_train.shape, y_test.shape"
      ],
      "metadata": {
        "colab": {
          "base_uri": "https://localhost:8080/",
          "height": 0
        },
        "id": "Eud-odZoV1M4",
        "outputId": "51f70836-50b8-46ac-e321-2c4d5e6d1495"
      },
      "execution_count": 13,
      "outputs": [
        {
          "output_type": "execute_result",
          "data": {
            "text/plain": [
              "((350, 5), (150, 5), (350,), (150,))"
            ]
          },
          "metadata": {},
          "execution_count": 13
        }
      ]
    },
    {
      "cell_type": "code",
      "source": [
        "# Linear regression model train\n",
        "from sklearn.linear_model import LinearRegression"
      ],
      "metadata": {
        "id": "FC6dDIq6V7yV"
      },
      "execution_count": 14,
      "outputs": []
    },
    {
      "cell_type": "code",
      "source": [
        "model = LinearRegression()"
      ],
      "metadata": {
        "id": "6b_4bDqeWpJ5"
      },
      "execution_count": 15,
      "outputs": []
    },
    {
      "cell_type": "code",
      "source": [
        "model.fit(X_train, y_train)"
      ],
      "metadata": {
        "colab": {
          "base_uri": "https://localhost:8080/",
          "height": 0
        },
        "id": "oCqBsHcmWrZI",
        "outputId": "50e1ad4a-628d-4697-f7f9-c9a4beaef0dc"
      },
      "execution_count": 16,
      "outputs": [
        {
          "output_type": "execute_result",
          "data": {
            "text/plain": [
              "LinearRegression()"
            ]
          },
          "metadata": {},
          "execution_count": 16
        }
      ]
    },
    {
      "cell_type": "code",
      "source": [
        "# Get intercepts and coefficients\n",
        "model.intercept_"
      ],
      "metadata": {
        "colab": {
          "base_uri": "https://localhost:8080/",
          "height": 0
        },
        "id": "dhxOedf6WvEG",
        "outputId": "3769a7d8-5e99-4e27-da99-63df752aa768"
      },
      "execution_count": 17,
      "outputs": [
        {
          "output_type": "execute_result",
          "data": {
            "text/plain": [
              "12.804677404011848"
            ]
          },
          "metadata": {},
          "execution_count": 17
        }
      ]
    },
    {
      "cell_type": "code",
      "source": [
        "model.coef_"
      ],
      "metadata": {
        "colab": {
          "base_uri": "https://localhost:8080/",
          "height": 0
        },
        "id": "23BgA4TkW1nI",
        "outputId": "c48de360-0ccd-481e-df0f-02d3e46fa0bd"
      },
      "execution_count": 18,
      "outputs": [
        {
          "output_type": "execute_result",
          "data": {
            "text/plain": [
              "array([30.14690156, 59.8508539 , 61.00591796, 13.33058614, 98.52732683])"
            ]
          },
          "metadata": {},
          "execution_count": 18
        }
      ]
    },
    {
      "cell_type": "code",
      "source": [
        "# Model prediction\n",
        "y_pred = model.predict(X_test)"
      ],
      "metadata": {
        "id": "Cw_D5KkwW4_O"
      },
      "execution_count": 19,
      "outputs": []
    },
    {
      "cell_type": "code",
      "source": [
        "y_pred.shape"
      ],
      "metadata": {
        "colab": {
          "base_uri": "https://localhost:8080/",
          "height": 0
        },
        "id": "HUoJY613XAx2",
        "outputId": "39d1079c-60cc-4b8e-a4a6-686e305141cc"
      },
      "execution_count": 20,
      "outputs": [
        {
          "output_type": "execute_result",
          "data": {
            "text/plain": [
              "(150,)"
            ]
          },
          "metadata": {},
          "execution_count": 20
        }
      ]
    },
    {
      "cell_type": "code",
      "source": [
        "y_pred"
      ],
      "metadata": {
        "colab": {
          "base_uri": "https://localhost:8080/",
          "height": 0
        },
        "id": "ZazbOW3yXCwH",
        "outputId": "ddc5389a-2aa2-4ef3-92a6-11bd2abbd3e2"
      },
      "execution_count": 21,
      "outputs": [
        {
          "output_type": "execute_result",
          "data": {
            "text/plain": [
              "array([ -32.2347268 ,  -91.78838198, -111.32428609,   32.28900762,\n",
              "       -292.09184678,  232.80381314,   45.45589568, -206.64663509,\n",
              "       -234.70619469,  -99.53722469,  109.51230639, -112.24192419,\n",
              "        136.86734982,    9.50169605, -402.91778394,  -77.75468931,\n",
              "         31.16247075,  -11.08354812,   31.85126688,   37.4989766 ,\n",
              "        -33.17312782,  165.96248357,  136.44084324,   43.71369762,\n",
              "        169.91060611, -255.66815548,   -6.97645701, -115.23137387,\n",
              "        -27.09548272,   -2.27310513,  -97.06342353,   57.62031761,\n",
              "        185.7350271 ,  -60.45930909,   11.20091455,  176.09294043,\n",
              "         90.16023475,  121.22117973,  -12.7823069 ,  -46.97799373,\n",
              "         84.74765683,   38.71436232,  -71.35539323,   -1.53368019,\n",
              "        -30.73878351,   54.71398149,  -21.39863976, -272.82340302,\n",
              "       -118.65913112,  -38.95749518,  -56.94266543,  -64.97208225,\n",
              "         83.15562417,   84.93116766, -118.46836522,  181.58821651,\n",
              "        -49.51641057,  -21.16415589,   24.61247158,   15.50449997,\n",
              "        177.48102965, -280.00659035,  132.68190996, -146.3719296 ,\n",
              "        181.40142785,  -99.13298792,   39.59393464,  116.66353758,\n",
              "        179.36615051,  156.10519607,   57.69154717,   29.13217725,\n",
              "       -102.086819  ,  -96.43086036,  -48.54067383,  102.07730091,\n",
              "        109.27743273,  157.25553456,  135.70953968,  -22.19144017,\n",
              "       -204.84997999,  132.85622533,   40.9548816 ,   93.87274125,\n",
              "        -38.68637545,   20.16165644, -173.4777815 ,   31.78904817,\n",
              "        174.6024829 ,  143.73624186,  144.25571404,   50.3249105 ,\n",
              "        -66.49817321,  -61.60857001,   55.56455718,  -24.66893769,\n",
              "       -129.90063813,   60.13995635,  134.52686195,  128.62980994,\n",
              "        301.91544779,   11.76874944,  -11.48619142, -319.75425702,\n",
              "        -89.22401612,  -89.77736186,  -22.84820519,  -56.45869267,\n",
              "         90.15710992,  166.38819788,  145.02106406,  133.01449822,\n",
              "        178.06301411,   27.83443113, -229.56624865,  -13.87055036,\n",
              "        -65.16788489,   55.579956  ,  158.30138329,   23.80733476,\n",
              "        -44.61754504, -104.29641738,   57.66550889, -177.80605374,\n",
              "        -74.28729277,  127.77641272,   90.26103721,  302.49937215,\n",
              "        -49.64748714,  -47.52519963,  -77.40654164,  -40.02137064,\n",
              "         11.9445304 , -114.7616647 ,  220.84662992, -105.83580108,\n",
              "       -124.76236231, -188.66177139,  117.19088414, -101.22112675,\n",
              "        124.60506733, -282.53782645,   73.67016676,  -12.16238081,\n",
              "       -161.68545386,   44.68598417,  172.95607293,    3.54588201,\n",
              "         38.89340344, -169.02005187])"
            ]
          },
          "metadata": {},
          "execution_count": 21
        }
      ]
    },
    {
      "cell_type": "code",
      "source": [
        "# Model evaluation\n",
        "from sklearn.metrics import mean_squared_error, mean_absolute_error, mean_absolute_percentage_error, r2_score"
      ],
      "metadata": {
        "id": "IbeRHqQXXFoT"
      },
      "execution_count": 22,
      "outputs": []
    },
    {
      "cell_type": "code",
      "source": [
        "mean_squared_error(y_test, y_pred)"
      ],
      "metadata": {
        "colab": {
          "base_uri": "https://localhost:8080/",
          "height": 0
        },
        "id": "w-iqc-crXUZO",
        "outputId": "9e6da588-8b40-439d-c46e-0b427e4ac3a6"
      },
      "execution_count": 23,
      "outputs": [
        {
          "output_type": "execute_result",
          "data": {
            "text/plain": [
              "93.17298608096334"
            ]
          },
          "metadata": {},
          "execution_count": 23
        }
      ]
    },
    {
      "cell_type": "code",
      "source": [
        "mean_absolute_error(y_test, y_pred)"
      ],
      "metadata": {
        "colab": {
          "base_uri": "https://localhost:8080/",
          "height": 0
        },
        "id": "uj3UjAaNXZb0",
        "outputId": "03ca1cb4-9716-4f75-e123-dc9d6446c91f"
      },
      "execution_count": 24,
      "outputs": [
        {
          "output_type": "execute_result",
          "data": {
            "text/plain": [
              "7.861503882499261"
            ]
          },
          "metadata": {},
          "execution_count": 24
        }
      ]
    },
    {
      "cell_type": "code",
      "source": [
        "mean_absolute_percentage_error(y_test, y_pred)"
      ],
      "metadata": {
        "colab": {
          "base_uri": "https://localhost:8080/",
          "height": 0
        },
        "id": "brmLb8HLXby-",
        "outputId": "509a1dad-6961-45f8-830d-b9cbf5959cf9"
      },
      "execution_count": 25,
      "outputs": [
        {
          "output_type": "execute_result",
          "data": {
            "text/plain": [
              "0.5394385232604642"
            ]
          },
          "metadata": {},
          "execution_count": 25
        }
      ]
    },
    {
      "cell_type": "code",
      "source": [
        "r2_score(y_test, y_pred)"
      ],
      "metadata": {
        "colab": {
          "base_uri": "https://localhost:8080/",
          "height": 0
        },
        "id": "GV5Al13WXdcl",
        "outputId": "49d943dc-b0c3-4df4-d692-d186e005eb07"
      },
      "execution_count": 26,
      "outputs": [
        {
          "output_type": "execute_result",
          "data": {
            "text/plain": [
              "0.9944221597296871"
            ]
          },
          "metadata": {},
          "execution_count": 26
        }
      ]
    },
    {
      "cell_type": "code",
      "source": [
        ""
      ],
      "metadata": {
        "id": "7fhEsz4AXgBA"
      },
      "execution_count": null,
      "outputs": []
    }
  ]
}